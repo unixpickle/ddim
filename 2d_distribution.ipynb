{
 "cells": [
  {
   "cell_type": "code",
   "execution_count": 1,
   "metadata": {},
   "outputs": [],
   "source": [
    "from ddim import Diffusion, create_alpha_schedule\n",
    "from predictor import BayesPredictor, train_predictor"
   ]
  },
  {
   "cell_type": "code",
   "execution_count": 43,
   "metadata": {},
   "outputs": [],
   "source": [
    "import os\n",
    "import tempfile\n",
    "\n",
    "import imageio\n",
    "import matplotlib.pyplot as plt\n",
    "import numpy as np\n",
    "from tqdm.auto import tqdm"
   ]
  },
  {
   "cell_type": "code",
   "execution_count": 49,
   "metadata": {},
   "outputs": [],
   "source": [
    "def generate_data(batch_size):\n",
    "    segments = [((0, 0), (0, 1)), ((0, 0.5), (0.5, 0.5)), ((0.5, 0), (0.5, 1)), ((1.0, 0), (1.0, 1.0))]\n",
    "    points = []\n",
    "    for segment in segments:\n",
    "        p1 = np.array(segment[0])\n",
    "        p2 = np.array(segment[1])\n",
    "        for i in range(100):\n",
    "            points.append(p1 + (p2 - p1) * (i / 99))\n",
    "    points = np.stack(points)\n",
    "    \n",
    "    def generate_rejection_samples():\n",
    "        samples = np.random.uniform(size=(batch_size, 1, 2)) * 2 - 0.5\n",
    "        dists = np.sqrt(np.min(np.sum((samples - points[None]) ** 2, axis=-1), axis=1))\n",
    "        return samples[dists < 0.05][:, 0]\n",
    "    \n",
    "    results = []\n",
    "    while sum(len(x) for x in results) < batch_size:\n",
    "        results.append(generate_rejection_samples())\n",
    "    return (np.concatenate(results, axis=0)[:batch_size] - np.array([0.5, 0.5])) * 2.5"
   ]
  },
  {
   "cell_type": "code",
   "execution_count": 50,
   "metadata": {},
   "outputs": [
    {
     "data": {
      "image/png": "[encoded data removed]",
      "text/plain": [
       "<Figure size 432x288 with 1 Axes>"
      ]
     },
     "metadata": {
      "needs_background": "light"
     },
     "output_type": "display_data"
    }
   ],
   "source": [
    "data = generate_data(1000)\n",
    "plt.scatter(data[:, 0], data[:, 1])\n",
    "plt.show()"
   ]
  },
  {
   "cell_type": "code",
   "execution_count": 51,
   "metadata": {},
   "outputs": [],
   "source": [
    "diffusion = Diffusion(create_alpha_schedule(num_steps=100))\n",
    "model = BayesPredictor(diffusion, data)"
   ]
  },
  {
   "cell_type": "code",
   "execution_count": 59,
   "metadata": {},
   "outputs": [
    {
     "data": {
      "application/vnd.jupyter.widget-view+json": {
       "model_id": "833e0ae89d9845b28cb376f0e5249b77",
       "version_major": 2,
       "version_minor": 0
      },
      "text/plain": [
       "HBox(children=(IntProgress(value=0, max=99), HTML(value='')))"
      ]
     },
     "metadata": {},
     "output_type": "display_data"
    }
   ],
   "source": [
    "images = []\n",
    "with tempfile.TemporaryDirectory() as tempdir:\n",
    "    x_t = np.random.normal(size=(300, 2))\n",
    "    for t in tqdm(range(1, diffusion.num_steps)[::-1]):\n",
    "        ts = np.array([t] * x_t.shape[0])\n",
    "        x_t = diffusion.ddim_previous(x_t, ts, model.predict_epsilon(x_t, ts))\n",
    "        if t % 2:\n",
    "            fig = plt.figure()\n",
    "            ax = fig.add_subplot(111)\n",
    "            plt.ylim(-3, 3)\n",
    "            plt.xlim(-3, 3)\n",
    "            plt.scatter(x_t[:, 0], x_t[:, 1])\n",
    "            ax.set_aspect('equal', adjustable='box')\n",
    "            filepath = os.path.join(tempdir, 'out.png')\n",
    "            plt.savefig(filepath)\n",
    "            plt.close()\n",
    "            images.append(imageio.imread(filepath))"
   ]
  },
  {
   "cell_type": "code",
   "execution_count": 60,
   "metadata": {},
   "outputs": [],
   "source": [
    "imageio.mimsave('animation.gif', images + ([images[-1]] * 20), fps=20)"
   ]
  }
 ],
 "metadata": {
  "kernelspec": {
   "display_name": "Python 3",
   "language": "python",
   "name": "python3"
  },
  "language_info": {
   "codemirror_mode": {
    "name": "ipython",
    "version": 3
   },
   "file_extension": ".py",
   "mimetype": "text/x-python",
   "name": "python",
   "nbconvert_exporter": "python",
   "pygments_lexer": "ipython3",
   "version": "3.6.3"
  }
 },
 "nbformat": 4,
 "nbformat_minor": 2
}
