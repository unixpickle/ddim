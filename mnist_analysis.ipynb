{
 "cells": [
  {
   "cell_type": "code",
   "execution_count": 1,
   "metadata": {},
   "outputs": [],
   "source": [
    "from IPython.display import display\n",
    "from PIL import Image\n",
    "import matplotlib.pyplot as plt\n",
    "import numpy as np\n",
    "import torch\n",
    "from tqdm.auto import tqdm\n",
    "\n",
    "from ddim import BayesPredictor, CNNPredictor, Diffusion, create_alpha_schedule\n",
    "from mnist_train import create_datasets"
   ]
  },
  {
   "cell_type": "code",
   "execution_count": 2,
   "metadata": {},
   "outputs": [],
   "source": [
    "diffusion = Diffusion(\n",
    "    create_alpha_schedule(num_steps=100, beta_0=0.001, beta_T=0.2)\n",
    ")"
   ]
  },
  {
   "cell_type": "code",
   "execution_count": 3,
   "metadata": {},
   "outputs": [],
   "source": [
    "def load_trained_model():\n",
    "    model = CNNPredictor((1, 28, 28))\n",
    "    model.load_state_dict(torch.load('checkpoints/mnist_model.pt'))\n",
    "    return model\n",
    "\n",
    "cnn_model = load_trained_model()"
   ]
  },
  {
   "cell_type": "code",
   "execution_count": 4,
   "metadata": {},
   "outputs": [],
   "source": [
    "def create_bayes_models(num):\n",
    "    loader, _ = create_datasets(1000, False)\n",
    "    it = iter(loader)\n",
    "    batch = next(it)[0]\n",
    "    for _ in range(num):\n",
    "        yield BayesPredictor(next(it)[0].numpy())\n",
    "\n",
    "bayes_model, bayes_model_2 = create_bayes_models(2)"
   ]
  },
  {
   "cell_type": "code",
   "execution_count": 5,
   "metadata": {},
   "outputs": [],
   "source": [
    "def load_test_data():\n",
    "    _, loader = create_datasets(10000, False)\n",
    "    batch = next(iter(loader))[0]\n",
    "    return batch.numpy()\n",
    "\n",
    "test_data = load_test_data()"
   ]
  },
  {
   "cell_type": "code",
   "execution_count": 6,
   "metadata": {},
   "outputs": [],
   "source": [
    "def show_sample(sample):\n",
    "    image = sample/0.3081 + 0.1307\n",
    "    image = (image * 255).clip(0, 255).astype('uint8')\n",
    "    image = image.reshape([4, 4, 1, 28, 28]).transpose(0, 3, 1, 4, 2).reshape([28*4, 28*4, 1])\n",
    "    image = np.concatenate([image] * 3, axis=-1)\n",
    "    display(Image.fromarray(image))"
   ]
  },
  {
   "cell_type": "code",
   "execution_count": 7,
   "metadata": {},
   "outputs": [
    {
     "data": {
      "image/png": "[encoded data removed]",
      "text/plain": [
       "<PIL.Image.Image image mode=RGB size=112x112 at 0x7F1245483588>"
      ]
     },
     "metadata": {},
     "output_type": "display_data"
    },
    {
     "data": {
      "image/png": "[encoded data removed]",
      "text/plain": [
       "<PIL.Image.Image image mode=RGB size=112x112 at 0x7F1245483208>"
      ]
     },
     "metadata": {},
     "output_type": "display_data"
    },
    {
     "data": {
      "image/png": "[encoded data removed]",
      "text/plain": [
       "<PIL.Image.Image image mode=RGB size=112x112 at 0x7F1245483470>"
      ]
     },
     "metadata": {},
     "output_type": "display_data"
    }
   ],
   "source": [
    "latents = np.random.normal(size=[16, 1, 28, 28])\n",
    "cnn_sample = diffusion.ddim_sample(latents, cnn_model)\n",
    "show_sample(cnn_sample)\n",
    "bayes_sample = diffusion.ddim_sample(latents, bayes_model)\n",
    "show_sample(bayes_sample)\n",
    "bayes_2_sample = diffusion.ddim_sample(latents, bayes_model_2)\n",
    "show_sample(bayes_2_sample)"
   ]
  },
  {
   "cell_type": "code",
   "execution_count": 8,
   "metadata": {},
   "outputs": [
    {
     "data": {
      "application/vnd.jupyter.widget-view+json": {
       "model_id": "235f545b200a4d75bcfa6cc15e77aad1",
       "version_major": 2,
       "version_minor": 0
      },
      "text/plain": [
       "HBox(children=(IntProgress(value=0, max=99), HTML(value='')))"
      ]
     },
     "metadata": {},
     "output_type": "display_data"
    },
    {
     "name": "stdout",
     "output_type": "stream",
     "text": [
      "\n"
     ]
    },
    {
     "data": {
      "image/png": "[encoded data removed]",
      "text/plain": [
       "<Figure size 432x288 with 1 Axes>"
      ]
     },
     "metadata": {
      "needs_background": "light"
     },
     "output_type": "display_data"
    }
   ],
   "source": [
    "# Investigate how much the two bayes models\n",
    "# agree during sampling.\n",
    "x_t_1 = latents\n",
    "x_t_2 = latents\n",
    "correlations = []\n",
    "for t in tqdm(range(1, diffusion.num_steps)[::-1]):\n",
    "    ts = np.array([t] * latents.shape[0])\n",
    "    alphas = diffusion.alphas_for_ts(ts)\n",
    "    pred_1 = bayes_model.predict_epsilon(x_t_1, alphas)\n",
    "    pred_2 = bayes_model_2.predict_epsilon(x_t_2, alphas)\n",
    "    x_t_1 = diffusion.ddim_previous(x_t_1, ts, pred_1)\n",
    "    x_t_2 = diffusion.ddim_previous(x_t_2, ts, pred_2)\n",
    "    correlations.append(\n",
    "        np.sum(pred_1 * pred_2) / np.sqrt(np.sum(pred_1 ** 2) * np.sum(pred_2 ** 2))\n",
    "    )\n",
    "plt.plot(correlations)\n",
    "plt.show()"
   ]
  },
  {
   "cell_type": "code",
   "execution_count": 9,
   "metadata": {},
   "outputs": [
    {
     "data": {
      "image/png": "[encoded data removed]",
      "text/plain": [
       "<PIL.Image.Image image mode=RGB size=112x112 at 0x7F1241266588>"
      ]
     },
     "metadata": {},
     "output_type": "display_data"
    }
   ],
   "source": [
    "class HybridModel:\n",
    "    def __init__(self, models, alphas):\n",
    "        assert alphas[0] == 0\n",
    "        assert len(models) == len(alphas)\n",
    "        self.models = models\n",
    "        self.alphas = alphas\n",
    "        self.ranges = list(zip(alphas, alphas[1:]))\n",
    "        self.ranges.append((alphas[-1], 1.0))\n",
    "\n",
    "    def predict_epsilon(self, inputs, alphas):\n",
    "        output = np.zeros_like(inputs)\n",
    "        for i, (inp, alpha) in enumerate(zip(inputs, alphas)):\n",
    "            for m, r in zip(self.models, self.ranges):\n",
    "                if alpha >= r[0] and alpha <= r[1]:\n",
    "                    output[i] = m.predict_epsilon(inp[None], alpha[None])[0]\n",
    "                    break\n",
    "        return output\n",
    "\n",
    "hybrid = HybridModel(models=[bayes_model, cnn_model], alphas=[0, 0.2])\n",
    "hybrid_sample = diffusion.ddim_sample(latents, hybrid)\n",
    "show_sample(hybrid_sample)"
   ]
  }
 ],
 "metadata": {
  "kernelspec": {
   "display_name": "Python 3",
   "language": "python",
   "name": "python3"
  },
  "language_info": {
   "codemirror_mode": {
    "name": "ipython",
    "version": 3
   },
   "file_extension": ".py",
   "mimetype": "text/x-python",
   "name": "python",
   "nbconvert_exporter": "python",
   "pygments_lexer": "ipython3",
   "version": "3.6.3"
  }
 },
 "nbformat": 4,
 "nbformat_minor": 2
}
