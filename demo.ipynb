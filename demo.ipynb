{
 "cells": [
  {
   "cell_type": "code",
   "execution_count": 1,
   "metadata": {},
   "outputs": [],
   "source": [
    "from ddim import Diffusion, create_alpha_schedule\n",
    "from predictor import BayesPredictor, train_predictor"
   ]
  },
  {
   "cell_type": "code",
   "execution_count": 2,
   "metadata": {},
   "outputs": [],
   "source": [
    "import matplotlib.pyplot as plt\n",
    "import numpy as np"
   ]
  },
  {
   "cell_type": "code",
   "execution_count": 3,
   "metadata": {},
   "outputs": [],
   "source": [
    "USE_BAYES = True\n",
    "DATASET = 'bimodal' # uniform, bimodal"
   ]
  },
  {
   "cell_type": "code",
   "execution_count": 4,
   "metadata": {},
   "outputs": [],
   "source": [
    "def generate_data(batch_size, num_batches):\n",
    "    if DATASET == 'uniform':\n",
    "        return np.random.uniform(size=(num_batches, batch_size, 1))\n",
    "    elif DATASET == 'bimodal':\n",
    "        raw_data = 0.2 * np.random.uniform(size=(num_batches, batch_size, 1))\n",
    "        offsets = np.random.randint(low=0, high=2, size=raw_data.shape).astype(raw_data.dtype)\n",
    "        return raw_data - 0.1 + (offsets - 0.5) * 2\n",
    "    else:\n",
    "        raise ValueError(DATASET)"
   ]
  },
  {
   "cell_type": "code",
   "execution_count": 5,
   "metadata": {},
   "outputs": [],
   "source": [
    "diffusion = Diffusion(create_alpha_schedule(num_steps=1000))"
   ]
  },
  {
   "cell_type": "code",
   "execution_count": 6,
   "metadata": {},
   "outputs": [],
   "source": [
    "if USE_BAYES:\n",
    "    model = BayesPredictor(generate_data(1000, 1)[0])\n",
    "else:\n",
    "    data = generate_data(batch_size=1000, num_batches=1000)\n",
    "    print('mean', np.mean(data), 'std', np.std(data))\n",
    "    model, losses = train_predictor(diffusion, data, lr=2e-3)\n",
    "    plt.plot(losses)\n",
    "    plt.show()\n",
    "    print('final loss', np.mean(losses[-10:]))"
   ]
  },
  {
   "cell_type": "code",
   "execution_count": 7,
   "metadata": {},
   "outputs": [
    {
     "data": {
      "image/png": "[encoded data removed]",
      "text/plain": [
       "<Figure size 432x288 with 1 Axes>"
      ]
     },
     "metadata": {
      "needs_background": "light"
     },
     "output_type": "display_data"
    },
    {
     "name": "stdout",
     "output_type": "stream",
     "text": [
      "mean 0.0056097101098992845 std 1.0043491791043135\n"
     ]
    }
   ],
   "source": [
    "x_T = np.random.normal(size=(200, 1))\n",
    "samples = diffusion.ddpm_sample(x_T, model)\n",
    "plt.hist(samples.reshape(-1), 20, alpha=0.5)\n",
    "plt.show()\n",
    "\n",
    "print('mean', np.mean(samples), 'std', np.std(samples))"
   ]
  },
  {
   "cell_type": "code",
   "execution_count": 8,
   "metadata": {},
   "outputs": [
    {
     "data": {
      "image/png": "[encoded data removed]",
      "text/plain": [
       "<Figure size 432x288 with 1 Axes>"
      ]
     },
     "metadata": {
      "needs_background": "light"
     },
     "output_type": "display_data"
    },
    {
     "name": "stdout",
     "output_type": "stream",
     "text": [
      "mean -0.0875540808247412 std 1.0023230837110282\n"
     ]
    }
   ],
   "source": [
    "x_T = np.random.normal(size=(200, 1))\n",
    "samples = diffusion.ddim_sample(x_T, model)\n",
    "plt.hist(samples.reshape(-1), 20, alpha=0.5)\n",
    "plt.show()\n",
    "\n",
    "print('mean', np.mean(samples), 'std', np.std(samples))"
   ]
  },
  {
   "cell_type": "code",
   "execution_count": 9,
   "metadata": {},
   "outputs": [
    {
     "data": {
      "image/png": "[encoded data removed]",
      "text/plain": [
       "<Figure size 432x288 with 1 Axes>"
      ]
     },
     "metadata": {
      "needs_background": "light"
     },
     "output_type": "display_data"
    }
   ],
   "source": [
    "x_T = np.linspace(-3, 3, 100)\n",
    "samples = diffusion.ddim_sample(x_T.reshape([-1, 1]), model)\n",
    "plt.xlabel('latent')\n",
    "plt.ylabel('sample')\n",
    "plt.ylim(-2, 2)\n",
    "plt.plot(x_T, samples)\n",
    "plt.show()"
   ]
  }
 ],
 "metadata": {
  "kernelspec": {
   "display_name": "Python 3",
   "language": "python",
   "name": "python3"
  },
  "language_info": {
   "codemirror_mode": {
    "name": "ipython",
    "version": 3
   },
   "file_extension": ".py",
   "mimetype": "text/x-python",
   "name": "python",
   "nbconvert_exporter": "python",
   "pygments_lexer": "ipython3",
   "version": "3.6.3"
  }
 },
 "nbformat": 4,
 "nbformat_minor": 2
}
